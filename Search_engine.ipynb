{
 "cells": [
  {
   "cell_type": "code",
   "execution_count": 1,
   "id": "f813e8e9",
   "metadata": {},
   "outputs": [
    {
     "name": "stdout",
     "output_type": "stream",
     "text": [
      "Analysing Question\n",
      "Finding Answer\n",
      "it is a user friendly and easy programming language\n"
     ]
    }
   ],
   "source": [
    "#dataset brain\n",
    "import time\n",
    "import json\n",
    "import difflib\n",
    "with open(\"output.json\",\"r\") as file:\n",
    "    data=json.load(file)\n",
    "    file.close\n",
    "brain={item[\"Question\"]: item[\"Answer\"] for item in data if \"Question\" in item and \"Answer\" in item}\n",
    "user_question=input(\"ask any question\")\n",
    "matching=difflib.get_close_matches(user_question,brain,n=1,cutoff=0.6)#changable based on search quality\n",
    "if matching:\n",
    "    best_one=matching[0]\n",
    "    print(\"Analysing Question\")\n",
    "    time.sleep(2)\n",
    "    print(\"Finding Answer\")\n",
    "    time.sleep(3)\n",
    "    print(brain[best_one])\n",
    "else:\n",
    "    print(\"can't find the answer\")"
   ]
  }
 ],
 "metadata": {
  "kernelspec": {
   "display_name": "Python 3",
   "language": "python",
   "name": "python3"
  },
  "language_info": {
   "codemirror_mode": {
    "name": "ipython",
    "version": 3
   },
   "file_extension": ".py",
   "mimetype": "text/x-python",
   "name": "python",
   "nbconvert_exporter": "python",
   "pygments_lexer": "ipython3",
   "version": "3.13.7"
  }
 },
 "nbformat": 4,
 "nbformat_minor": 5
}
